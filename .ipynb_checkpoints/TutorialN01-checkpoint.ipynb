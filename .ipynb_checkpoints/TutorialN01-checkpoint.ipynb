{
 "cells": [
  {
   "cell_type": "markdown",
   "metadata": {},
   "source": [
    "# Variables y entrada de datos"
   ]
  },
  {
   "cell_type": "code",
   "execution_count": 1,
   "metadata": {},
   "outputs": [],
   "source": [
    "V=5"
   ]
  },
  {
   "cell_type": "code",
   "execution_count": 2,
   "metadata": {},
   "outputs": [
    {
     "name": "stdout",
     "output_type": "stream",
     "text": [
      "5\n"
     ]
    }
   ],
   "source": [
    "print(V)"
   ]
  },
  {
   "cell_type": "code",
   "execution_count": 3,
   "metadata": {},
   "outputs": [
    {
     "data": {
      "text/plain": [
       "int"
      ]
     },
     "execution_count": 3,
     "metadata": {},
     "output_type": "execute_result"
    }
   ],
   "source": [
    "type(V)"
   ]
  },
  {
   "cell_type": "code",
   "execution_count": 4,
   "metadata": {},
   "outputs": [],
   "source": [
    "W=5."
   ]
  },
  {
   "cell_type": "code",
   "execution_count": 5,
   "metadata": {},
   "outputs": [
    {
     "name": "stdout",
     "output_type": "stream",
     "text": [
      "5.0\n"
     ]
    }
   ],
   "source": [
    "print(W)"
   ]
  },
  {
   "cell_type": "code",
   "execution_count": 6,
   "metadata": {},
   "outputs": [
    {
     "data": {
      "text/plain": [
       "float"
      ]
     },
     "execution_count": 6,
     "metadata": {},
     "output_type": "execute_result"
    }
   ],
   "source": [
    "type(W)"
   ]
  },
  {
   "cell_type": "code",
   "execution_count": 7,
   "metadata": {},
   "outputs": [],
   "source": [
    "x = \"Tecprog World\""
   ]
  },
  {
   "cell_type": "code",
   "execution_count": 8,
   "metadata": {},
   "outputs": [
    {
     "data": {
      "text/plain": [
       "str"
      ]
     },
     "execution_count": 8,
     "metadata": {},
     "output_type": "execute_result"
    }
   ],
   "source": [
    "type(x)"
   ]
  },
  {
   "cell_type": "code",
   "execution_count": 9,
   "metadata": {},
   "outputs": [
    {
     "name": "stdout",
     "output_type": "stream",
     "text": [
      "132 10\n"
     ]
    }
   ],
   "source": [
    "w = 132\n",
    "W = 10\n",
    "print(w, W)"
   ]
  },
  {
   "cell_type": "code",
   "execution_count": 10,
   "metadata": {},
   "outputs": [
    {
     "name": "stdout",
     "output_type": "stream",
     "text": [
      "Hola mundo\n"
     ]
    }
   ],
   "source": [
    "print(\"Hola mundo\")"
   ]
  },
  {
   "cell_type": "code",
   "execution_count": 11,
   "metadata": {},
   "outputs": [
    {
     "name": "stdout",
     "output_type": "stream",
     "text": [
      "140 11345\n"
     ]
    }
   ],
   "source": [
    "_w = 140\n",
    "w_ = 11345\n",
    "print(_w, w_)"
   ]
  },
  {
   "cell_type": "code",
   "execution_count": 12,
   "metadata": {},
   "outputs": [
    {
     "name": "stdout",
     "output_type": "stream",
     "text": [
      "30\n"
     ]
    }
   ],
   "source": [
    "w1 = 30\n",
    "print(w1)"
   ]
  },
  {
   "cell_type": "code",
   "execution_count": 13,
   "metadata": {},
   "outputs": [
    {
     "name": "stdout",
     "output_type": "stream",
     "text": [
      "40\n"
     ]
    }
   ],
   "source": [
    "w_1 = 40\n",
    "print(w_1)"
   ]
  },
  {
   "cell_type": "code",
   "execution_count": 14,
   "metadata": {},
   "outputs": [
    {
     "name": "stdout",
     "output_type": "stream",
     "text": [
      "2.5\n"
     ]
    }
   ],
   "source": [
    "ra = 5/2\n",
    "print(ra)"
   ]
  },
  {
   "cell_type": "code",
   "execution_count": 15,
   "metadata": {},
   "outputs": [],
   "source": [
    "avión = 3"
   ]
  },
  {
   "cell_type": "code",
   "execution_count": 16,
   "metadata": {},
   "outputs": [
    {
     "name": "stdout",
     "output_type": "stream",
     "text": [
      "3\n"
     ]
    }
   ],
   "source": [
    "print(avión)"
   ]
  },
  {
   "cell_type": "code",
   "execution_count": 17,
   "metadata": {},
   "outputs": [],
   "source": [
    "A=(1, 2, \"Saludos\")"
   ]
  },
  {
   "cell_type": "code",
   "execution_count": 18,
   "metadata": {},
   "outputs": [
    {
     "data": {
      "text/plain": [
       "tuple"
      ]
     },
     "execution_count": 18,
     "metadata": {},
     "output_type": "execute_result"
    }
   ],
   "source": [
    "type(A)"
   ]
  },
  {
   "cell_type": "code",
   "execution_count": 19,
   "metadata": {},
   "outputs": [],
   "source": [
    "B=[1,2, \"Saludos\"]"
   ]
  },
  {
   "cell_type": "code",
   "execution_count": 20,
   "metadata": {},
   "outputs": [
    {
     "data": {
      "text/plain": [
       "list"
      ]
     },
     "execution_count": 20,
     "metadata": {},
     "output_type": "execute_result"
    }
   ],
   "source": [
    "type(B)"
   ]
  },
  {
   "cell_type": "code",
   "execution_count": 21,
   "metadata": {},
   "outputs": [
    {
     "data": {
      "text/plain": [
       "1"
      ]
     },
     "execution_count": 21,
     "metadata": {},
     "output_type": "execute_result"
    }
   ],
   "source": [
    "A[0]"
   ]
  },
  {
   "cell_type": "code",
   "execution_count": 22,
   "metadata": {},
   "outputs": [],
   "source": [
    "A=[[1, 2], [3, 3]]"
   ]
  },
  {
   "cell_type": "code",
   "execution_count": 23,
   "metadata": {},
   "outputs": [
    {
     "data": {
      "text/plain": [
       "list"
      ]
     },
     "execution_count": 23,
     "metadata": {},
     "output_type": "execute_result"
    }
   ],
   "source": [
    "type(A)"
   ]
  },
  {
   "cell_type": "code",
   "execution_count": 24,
   "metadata": {},
   "outputs": [
    {
     "name": "stdout",
     "output_type": "stream",
     "text": [
      "[[1, 2], [3, 3]]\n"
     ]
    }
   ],
   "source": [
    "print(A)"
   ]
  },
  {
   "cell_type": "code",
   "execution_count": 25,
   "metadata": {},
   "outputs": [],
   "source": [
    "C=[[3, 7], [4, 0]]"
   ]
  },
  {
   "cell_type": "code",
   "execution_count": 26,
   "metadata": {},
   "outputs": [],
   "source": [
    "D=A+C"
   ]
  },
  {
   "cell_type": "code",
   "execution_count": 27,
   "metadata": {},
   "outputs": [
    {
     "name": "stdout",
     "output_type": "stream",
     "text": [
      "[[1, 2], [3, 3], [3, 7], [4, 0]]\n"
     ]
    }
   ],
   "source": [
    "print(D)"
   ]
  },
  {
   "cell_type": "code",
   "execution_count": 28,
   "metadata": {},
   "outputs": [],
   "source": [
    "#notas = [16, 10, 15]\n",
    "#suma = 0\n",
    "#x = 0\n",
    "#while x < 3:\n",
    "#    suma = notas[0] + notas[1] + notas[2]\n",
    "#    x = x + 1\n",
    "#print(\"Media: %f\" %suma/x)"
   ]
  },
  {
   "cell_type": "code",
   "execution_count": 29,
   "metadata": {},
   "outputs": [
    {
     "data": {
      "text/plain": [
       "int"
      ]
     },
     "execution_count": 29,
     "metadata": {},
     "output_type": "execute_result"
    }
   ],
   "source": [
    "notas = [16, 10, 15]\n",
    "notas[0]\n",
    "type(notas[0])"
   ]
  },
  {
   "cell_type": "markdown",
   "metadata": {},
   "source": [
    "## Calculo de la media con notas digitadas por el usuario en Python"
   ]
  },
  {
   "cell_type": "code",
   "execution_count": 31,
   "metadata": {},
   "outputs": [
    {
     "name": "stdout",
     "output_type": "stream",
     "text": [
      "Nota 0:10\n",
      "Nota 1:15\n",
      "Nota 2:11\n",
      "Nota 3:13\n",
      "Nota 4:14\n",
      "Nota 0:  10.00\n",
      "Nota 1:  15.00\n",
      "Nota 2:  11.00\n",
      "Nota 3:  13.00\n",
      "Nota 4:  14.00\n",
      "Media : 12.60\n"
     ]
    }
   ],
   "source": [
    "notas = [0, 0, 0, 0, 0]\n",
    "suma = 0\n",
    "x = 0\n",
    "while x < 5:\n",
    "    notas[x] = float(input(\"Nota %d:\" % x))\n",
    "    suma += notas[x]\n",
    "    x += 1\n",
    "x =0\n",
    "while x < 5:\n",
    "    print(\"Nota %d: %6.2f\" % (x, notas[x]))\n",
    "    x += 1\n",
    "print(\"Media : %5.2f\" %(suma/x))"
   ]
  },
  {
   "cell_type": "code",
   "execution_count": 34,
   "metadata": {},
   "outputs": [],
   "source": [
    "notas.append(13)"
   ]
  },
  {
   "cell_type": "code",
   "execution_count": 35,
   "metadata": {},
   "outputs": [
    {
     "data": {
      "text/plain": [
       "[10.0, 15.0, 11.0, 13.0, 14.0, '13', 13]"
      ]
     },
     "execution_count": 35,
     "metadata": {},
     "output_type": "execute_result"
    }
   ],
   "source": [
    "notas"
   ]
  },
  {
   "cell_type": "code",
   "execution_count": 39,
   "metadata": {},
   "outputs": [
    {
     "name": "stdout",
     "output_type": "stream",
     "text": [
      "Digite un número (0 sale):1\n",
      "Digite un número (0 sale):2\n",
      "Digite un número (0 sale):3\n",
      "Digite un número (0 sale):4\n",
      "Digite un número (0 sale):0\n",
      "1\n",
      "[1, 2, 3, 4]\n",
      "2\n",
      "[1, 2, 3, 4]\n",
      "3\n",
      "[1, 2, 3, 4]\n",
      "4\n",
      "[1, 2, 3, 4]\n"
     ]
    }
   ],
   "source": [
    "A = []\n",
    "while True:\n",
    "    n = int(input(\"Digite un número (0 sale):\"))\n",
    "    if n == 0:\n",
    "        break\n",
    "    A.append(n)\n",
    "x = 0\n",
    "while x < len(A):\n",
    "    print(A[x])\n",
    "    x += 1\n",
    "    print(A)\n"
   ]
  },
  {
   "cell_type": "markdown",
   "metadata": {},
   "source": [
    "## Simulación de una cola de banco"
   ]
  },
  {
   "cell_type": "code",
   "execution_count": 1,
   "metadata": {},
   "outputs": [
    {
     "name": "stdout",
     "output_type": "stream",
     "text": [
      "\n",
      "Existen 10 clientes en la cola\n",
      "Cola actual: [1, 2, 3, 4, 5, 6, 7, 8, 9, 10]\n",
      "Digite F para adicionar un cliente al final de la cola,\n",
      "o A para realizar la atención. S para salir.\n",
      "Operación (F, A o S):F\n",
      "\n",
      "Existen 11 clientes en la cola\n",
      "Cola actual: [1, 2, 3, 4, 5, 6, 7, 8, 9, 10, 11]\n",
      "Digite F para adicionar un cliente al final de la cola,\n",
      "o A para realizar la atención. S para salir.\n",
      "Operación (F, A o S):A\n",
      "CLiente 1 atendido\n",
      "\n",
      "Existen 10 clientes en la cola\n",
      "Cola actual: [2, 3, 4, 5, 6, 7, 8, 9, 10, 11]\n",
      "Digite F para adicionar un cliente al final de la cola,\n",
      "o A para realizar la atención. S para salir.\n",
      "Operación (F, A o S):F\n",
      "\n",
      "Existen 11 clientes en la cola\n",
      "Cola actual: [2, 3, 4, 5, 6, 7, 8, 9, 10, 11, 12]\n",
      "Digite F para adicionar un cliente al final de la cola,\n",
      "o A para realizar la atención. S para salir.\n",
      "Operación (F, A o S):F\n",
      "\n",
      "Existen 12 clientes en la cola\n",
      "Cola actual: [2, 3, 4, 5, 6, 7, 8, 9, 10, 11, 12, 13]\n",
      "Digite F para adicionar un cliente al final de la cola,\n",
      "o A para realizar la atención. S para salir.\n",
      "Operación (F, A o S):F\n",
      "\n",
      "Existen 13 clientes en la cola\n",
      "Cola actual: [2, 3, 4, 5, 6, 7, 8, 9, 10, 11, 12, 13, 14]\n",
      "Digite F para adicionar un cliente al final de la cola,\n",
      "o A para realizar la atención. S para salir.\n",
      "Operación (F, A o S):s\n",
      "Operación inválida!, digite solo F, A o S!\n",
      "\n",
      "Existen 13 clientes en la cola\n",
      "Cola actual: [2, 3, 4, 5, 6, 7, 8, 9, 10, 11, 12, 13, 14]\n",
      "Digite F para adicionar un cliente al final de la cola,\n",
      "o A para realizar la atención. S para salir.\n",
      "Operación (F, A o S):S\n"
     ]
    }
   ],
   "source": [
    "último = 10\n",
    "cola = list(range(1, último + 1))\n",
    "while True:\n",
    "    print(\"\\nExisten %d clientes en la cola\" % len(cola))\n",
    "    print(\"Cola actual:\", cola)\n",
    "    print(\"Digite F para adicionar un cliente al final de la cola,\")\n",
    "    print(\"o A para realizar la atención. S para salir.\")\n",
    "    operación = input(\"Operación (F, A o S):\")\n",
    "    if operación == \"A\":\n",
    "        if (len(cola))>0:\n",
    "            atendido = cola.pop(0)\n",
    "            print(\"CLiente %d atendido\" % atendido)\n",
    "        else:\n",
    "            print(\"Cola vacía, nadie para atender.\")\n",
    "    elif operación == \"F\":\n",
    "        último += 1 # Incrementa el ticket del nuevo cliente\n",
    "        cola.append(último)\n",
    "    elif operación == \"S\":\n",
    "        break\n",
    "    else:\n",
    "        print(\"Operación inválida!, digite solo F, A o S!\")"
   ]
  },
  {
   "cell_type": "code",
   "execution_count": 5,
   "metadata": {},
   "outputs": [
    {
     "data": {
      "text/plain": [
       "[1, 2, 3, 4, 5, 6, 7, 8, 9]"
      ]
     },
     "execution_count": 5,
     "metadata": {},
     "output_type": "execute_result"
    }
   ],
   "source": [
    "list(range(1, 10))"
   ]
  },
  {
   "cell_type": "code",
   "execution_count": 8,
   "metadata": {},
   "outputs": [
    {
     "data": {
      "text/plain": [
       "3"
      ]
     },
     "execution_count": 8,
     "metadata": {},
     "output_type": "execute_result"
    }
   ],
   "source": [
    "def suma(a,b):\n",
    "    \"\"\"Esta función hace la operación de adición\"\"\"\n",
    "    return a + b\n",
    "suma(1,2)"
   ]
  },
  {
   "cell_type": "code",
   "execution_count": 7,
   "metadata": {},
   "outputs": [],
   "source": [
    "# f(x)=a+b"
   ]
  },
  {
   "cell_type": "code",
   "execution_count": 9,
   "metadata": {},
   "outputs": [
    {
     "data": {
      "text/plain": [
       "5"
      ]
     },
     "execution_count": 9,
     "metadata": {},
     "output_type": "execute_result"
    }
   ],
   "source": [
    "suma(1,4)"
   ]
  },
  {
   "cell_type": "code",
   "execution_count": 10,
   "metadata": {},
   "outputs": [
    {
     "data": {
      "text/plain": [
       "1001"
      ]
     },
     "execution_count": 10,
     "metadata": {},
     "output_type": "execute_result"
    }
   ],
   "source": [
    "suma(1,1000)"
   ]
  },
  {
   "cell_type": "code",
   "execution_count": null,
   "metadata": {},
   "outputs": [],
   "source": []
  }
 ],
 "metadata": {
  "kernelspec": {
   "display_name": "Python 3",
   "language": "python",
   "name": "python3"
  },
  "language_info": {
   "codemirror_mode": {
    "name": "ipython",
    "version": 3
   },
   "file_extension": ".py",
   "mimetype": "text/x-python",
   "name": "python",
   "nbconvert_exporter": "python",
   "pygments_lexer": "ipython3",
   "version": "3.6.7"
  }
 },
 "nbformat": 4,
 "nbformat_minor": 2
}
